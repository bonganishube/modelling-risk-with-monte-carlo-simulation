{
 "cells": [
  {
   "cell_type": "markdown",
   "metadata": {
    "id": "0qYvRTglG537"
   },
   "source": [
    "# Value at Risk Assessment Model"
   ]
  },
  {
   "cell_type": "markdown",
   "metadata": {
    "id": "n9SHyrgqG538"
   },
   "source": [
    "### Import Packages\n"
   ]
  },
  {
   "cell_type": "code",
   "execution_count": 1,
   "metadata": {
    "id": "6zwRJlzeLaqq"
   },
   "outputs": [],
   "source": [
    "# Import packages\n",
    "import numpy as np\n",
    "import pandas as pd\n",
    "import matplotlib.pyplot as plt\n",
    "import yfinance as yf"
   ]
  },
  {
   "cell_type": "markdown",
   "metadata": {
    "id": "S9eWw_mrG53-"
   },
   "source": [
    "### Distributions - Set Up Stock Parameters"
   ]
  },
  {
   "cell_type": "code",
   "execution_count": 2,
   "metadata": {
    "colab": {
     "base_uri": "https://localhost:8080/"
    },
    "executionInfo": {
     "elapsed": 181,
     "status": "ok",
     "timestamp": 1626320248024,
     "user": {
      "displayName": "Yuting Zhao",
      "photoUrl": "https://lh3.googleusercontent.com/a-/AOh14GgTx8nXEgksfFAELok_uktVap8BK_FeqQbCMfOqOQ=s64",
      "userId": "08092881124962313525"
     },
     "user_tz": 420
    },
    "id": "TWE2nRZhG53_",
    "outputId": "7b19be3c-ad85-484a-e6fb-e73330f9269a"
   },
   "outputs": [
    {
     "name": "stdout",
     "output_type": "stream",
     "text": [
      "yfinance.Ticker object <MSFT>\n",
      "---------\n",
      "417.1400146484375\n"
     ]
    }
   ],
   "source": [
    "# Number of shares\n",
    "shares_MSFT = 1000\n",
    "\n",
    "# Live stock price\n",
    "price = yf.Ticker('MSFT')\n",
    "price_MSFT = price.history().tail(1)['Close'].iloc[0]\n",
    "\n",
    "print(price)\n",
    "print('---------')\n",
    "print(price_MSFT)"
   ]
  },
  {
   "cell_type": "markdown",
   "metadata": {},
   "source": [
    "30-day Historical volatility source: https://www.alphaquery.com/stock/MSFT/volatility-option-statistics/30-day/historical-volatility"
   ]
  },
  {
   "cell_type": "code",
   "execution_count": 3,
   "metadata": {
    "id": "1pwJU3PdLaqs"
   },
   "outputs": [],
   "source": [
    "# Investment value\n",
    "value_MSFT = price_MSFT * shares_MSFT\n",
    "\n",
    "# Risk free rate (4 week treasury bill rate)\n",
    "rfr_MSFT = 0.02 \n",
    "\n",
    "# Volatility (30-day volatility at that time)\n",
    "vol_MSFT = 0.2116"
   ]
  },
  {
   "cell_type": "markdown",
   "metadata": {
    "id": "Tx3t5Yu0G54C"
   },
   "source": [
    "### Simulations - Calculate Investment Returns"
   ]
  },
  {
   "cell_type": "code",
   "execution_count": 4,
   "metadata": {
    "id": "DV0RqdK2G54D"
   },
   "outputs": [],
   "source": [
    "# Number of simulations\n",
    "simulations = 5000 \n",
    "\n",
    "# Investment time in a year\n",
    "t_MSFT = 21/252 "
   ]
  },
  {
   "cell_type": "code",
   "execution_count": 5,
   "metadata": {
    "colab": {
     "base_uri": "https://localhost:8080/",
     "height": 811
    },
    "executionInfo": {
     "elapsed": 752,
     "status": "ok",
     "timestamp": 1624456739147,
     "user": {
      "displayName": "Lester Leong",
      "photoUrl": "https://lh3.googleusercontent.com/a-/AOh14GhESsAP_U-p-CX8EsBjBg4EszjEo6Qb0zr-LMf14g=s64",
      "userId": "17427307644910609596"
     },
     "user_tz": 300
    },
    "id": "3uhH4lTRG54E",
    "outputId": "e3c6ca8d-496f-41c8-ffb6-c880870d83a3"
   },
   "outputs": [
    {
     "data": {
      "text/plain": [
       "(array([  1.,   0.,   0.,   0.,   0.,   0.,   0.,   1.,   1.,   0.,   0.,\n",
       "          0.,   3.,   5.,   6.,   2.,   8.,   7.,   8.,  17.,   4.,  17.,\n",
       "          9.,  18.,  14.,  22.,  20.,  32.,  31.,  43.,  44.,  39.,  65.,\n",
       "         68.,  62.,  61.,  69.,  74.,  95.,  92.,  90., 118., 102., 119.,\n",
       "        108., 118., 131., 149., 121., 143., 137., 130., 136., 136., 141.,\n",
       "        128., 137., 135., 115., 117., 115., 117., 114., 106., 104.,  97.,\n",
       "         80.,  82.,  80.,  73.,  65.,  71.,  64.,  49.,  45.,  37.,  42.,\n",
       "         26.,  22.,  25.,  19.,  15.,  16.,  10.,  15.,  10.,  12.,   6.,\n",
       "          7.,   5.,   3.,   6.,   3.,   0.,   1.,   6.,   1.,   0.,   1.,\n",
       "          1.]),\n",
       " array([-3.76915968, -3.69767215, -3.62618461, -3.55469708, -3.48320955,\n",
       "        -3.41172201, -3.34023448, -3.26874694, -3.19725941, -3.12577188,\n",
       "        -3.05428434, -2.98279681, -2.91130928, -2.83982174, -2.76833421,\n",
       "        -2.69684668, -2.62535914, -2.55387161, -2.48238407, -2.41089654,\n",
       "        -2.33940901, -2.26792147, -2.19643394, -2.12494641, -2.05345887,\n",
       "        -1.98197134, -1.91048381, -1.83899627, -1.76750874, -1.6960212 ,\n",
       "        -1.62453367, -1.55304614, -1.4815586 , -1.41007107, -1.33858354,\n",
       "        -1.267096  , -1.19560847, -1.12412094, -1.0526334 , -0.98114587,\n",
       "        -0.90965834, -0.8381708 , -0.76668327, -0.69519573, -0.6237082 ,\n",
       "        -0.55222067, -0.48073313, -0.4092456 , -0.33775807, -0.26627053,\n",
       "        -0.194783  , -0.12329547, -0.05180793,  0.0196796 ,  0.09116714,\n",
       "         0.16265467,  0.2341422 ,  0.30562974,  0.37711727,  0.4486048 ,\n",
       "         0.52009234,  0.59157987,  0.6630674 ,  0.73455494,  0.80604247,\n",
       "         0.87753001,  0.94901754,  1.02050507,  1.09199261,  1.16348014,\n",
       "         1.23496767,  1.30645521,  1.37794274,  1.44943027,  1.52091781,\n",
       "         1.59240534,  1.66389287,  1.73538041,  1.80686794,  1.87835548,\n",
       "         1.94984301,  2.02133054,  2.09281808,  2.16430561,  2.23579314,\n",
       "         2.30728068,  2.37876821,  2.45025574,  2.52174328,  2.59323081,\n",
       "         2.66471835,  2.73620588,  2.80769341,  2.87918095,  2.95066848,\n",
       "         3.02215601,  3.09364355,  3.16513108,  3.23661861,  3.30810615,\n",
       "         3.37959368]),\n",
       " <BarContainer object of 100 artists>)"
      ]
     },
     "execution_count": 5,
     "metadata": {},
     "output_type": "execute_result"
    },
    {
     "data": {
      "image/png": "[encoded data removed]",
      "text/plain": [
       "<Figure size 640x480 with 1 Axes>"
      ]
     },
     "metadata": {},
     "output_type": "display_data"
    }
   ],
   "source": [
    "# Explain np.random.standard_normal\n",
    "sample = np.random.standard_normal(5000)\n",
    "plt.hist(sample,bins=100)"
   ]
  },
  {
   "cell_type": "code",
   "execution_count": 6,
   "metadata": {
    "colab": {
     "base_uri": "https://localhost:8080/"
    },
    "executionInfo": {
     "elapsed": 8,
     "status": "ok",
     "timestamp": 1624456739148,
     "user": {
      "displayName": "Lester Leong",
      "photoUrl": "https://lh3.googleusercontent.com/a-/AOh14GhESsAP_U-p-CX8EsBjBg4EszjEo6Qb0zr-LMf14g=s64",
      "userId": "17427307644910609596"
     },
     "user_tz": 300
    },
    "id": "ecg0kj4PG54F",
    "outputId": "9ba22a66-a2f1-4820-a054-35549fd32622"
   },
   "outputs": [
    {
     "name": "stdout",
     "output_type": "stream",
     "text": [
      "0.004218421764637424\n",
      "1.0188291349496859\n"
     ]
    }
   ],
   "source": [
    "print(np.mean(sample))\n",
    "print(np.std(sample))"
   ]
  },
  {
   "cell_type": "code",
   "execution_count": 7,
   "metadata": {
    "id": "0oUobTOZLaqs"
   },
   "outputs": [],
   "source": [
    "# Create a function to calculate the returns of the investment\n",
    "def VaR(pv, rfr, vol, t, simulations):\n",
    "    end_value = pv * np.exp((rfr - .5 * vol ** 2) * t + np.random.standard_normal(\n",
    "        simulations) * vol * np.sqrt(t))\n",
    "    returns = end_value - pv\n",
    "    return returns\n",
    "\n",
    "# Apply the VaR function to simulate the returns\n",
    "returns_MSFT = VaR(value_MSFT, rfr_MSFT, vol_MSFT, t_MSFT, simulations)"
   ]
  },
  {
   "cell_type": "markdown",
   "metadata": {
    "id": "nvhBrW_1G54H"
   },
   "source": [
    "### Quantifications - Identify VaR at 90%, 95%, and 99% Confidence Level"
   ]
  },
  {
   "cell_type": "code",
   "execution_count": 8,
   "metadata": {
    "colab": {
     "base_uri": "https://localhost:8080/"
    },
    "executionInfo": {
     "elapsed": 6,
     "status": "ok",
     "timestamp": 1624456739149,
     "user": {
      "displayName": "Lester Leong",
      "photoUrl": "https://lh3.googleusercontent.com/a-/AOh14GhESsAP_U-p-CX8EsBjBg4EszjEo6Qb0zr-LMf14g=s64",
      "userId": "17427307644910609596"
     },
     "user_tz": 300
    },
    "id": "gQu-YRHZG54I",
    "outputId": "551f0d02-0383-4274-d375-9e6257c37884"
   },
   "outputs": [
    {
     "name": "stdout",
     "output_type": "stream",
     "text": [
      "VaR at 90% confidence level: $3,455\n"
     ]
    }
   ],
   "source": [
    "# Explain string formatting\n",
    "# Print: VaR at x% confidence level: $y.\n",
    "\n",
    "x = 0.9\n",
    "y = 3455.248\n",
    "print(\"VaR at {:.0%} confidence level: ${:,.0f}\".format(x, y))"
   ]
  },
  {
   "cell_type": "code",
   "execution_count": 9,
   "metadata": {
    "colab": {
     "base_uri": "https://localhost:8080/",
     "height": 316
    },
    "executionInfo": {
     "elapsed": 735,
     "status": "ok",
     "timestamp": 1624456739879,
     "user": {
      "displayName": "Lester Leong",
      "photoUrl": "https://lh3.googleusercontent.com/a-/AOh14GhESsAP_U-p-CX8EsBjBg4EszjEo6Qb0zr-LMf14g=s64",
      "userId": "17427307644910609596"
     },
     "user_tz": 300
    },
    "id": "L5NT-rgIG54K",
    "outputId": "518ae085-5727-4cc0-cad2-4fdbe02ebfd0"
   },
   "outputs": [
    {
     "name": "stdout",
     "output_type": "stream",
     "text": [
      "VaR at 90% confidence level: $-30,083\n",
      "VaR at 95% confidence level: $-38,573\n",
      "VaR at 99% confidence level: $-54,533\n"
     ]
    },
    {
     "data": {
      "image/png": "[encoded data removed]",
      "text/plain": [
       "<Figure size 640x480 with 1 Axes>"
      ]
     },
     "metadata": {},
     "output_type": "display_data"
    }
   ],
   "source": [
    "# Plot the returns\n",
    "plt.hist(returns_MSFT, bins=100);\n",
    "\n",
    "# Show VaR at 90%, 95%, and 99% confidence level\n",
    "percentiles = [10,5,1]\n",
    "\n",
    "for i in percentiles:\n",
    "    confidence = (100-i)/100\n",
    "    value = np.percentile(returns_MSFT, i)\n",
    "    print(\"VaR at {:.0%} confidence level: ${:,.0f}\".format(confidence, value))\n",
    "    plt.axvline(value, color = 'red', linestyle='dashed', linewidth=1)"
   ]
  }
 ],
 "metadata": {
  "colab": {
   "collapsed_sections": [],
   "name": "03-Value at Risk Assessment V2 (with script).ipynb",
   "provenance": []
  },
  "kernelspec": {
   "display_name": "Python 3 (ipykernel)",
   "language": "python",
   "name": "python3"
  },
  "language_info": {
   "codemirror_mode": {
    "name": "ipython",
    "version": 3
   },
   "file_extension": ".py",
   "mimetype": "text/x-python",
   "name": "python",
   "nbconvert_exporter": "python",
   "pygments_lexer": "ipython3",
   "version": "3.11.5"
  }
 },
 "nbformat": 4,
 "nbformat_minor": 1
}
