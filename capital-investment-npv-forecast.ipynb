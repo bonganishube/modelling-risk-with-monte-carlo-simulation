{
 "cells": [
  {
   "cell_type": "markdown",
   "metadata": {
    "id": "4YOWdfHCkAx-"
   },
   "source": [
    "# Capital Investment NPV Forecast\n",
    "\n",
    "### Import Packages"
   ]
  },
  {
   "cell_type": "code",
   "execution_count": 1,
   "metadata": {
    "executionInfo": {
     "elapsed": 246,
     "status": "ok",
     "timestamp": 1625722119519,
     "user": {
      "displayName": "Yuting Zhao",
      "photoUrl": "https://lh3.googleusercontent.com/a-/AOh14GgTx8nXEgksfFAELok_uktVap8BK_FeqQbCMfOqOQ=s64",
      "userId": "08092881124962313525"
     },
     "user_tz": 420
    },
    "id": "ZjL_YpN5kAyA"
   },
   "outputs": [],
   "source": [
    "import numpy as np\n",
    "import numpy_financial as npf\n",
    "import matplotlib.pyplot as plt"
   ]
  },
  {
   "cell_type": "markdown",
   "metadata": {
    "id": "uMx7OcTLkAyB"
   },
   "source": [
    "### Set Up the Financial Assumptions"
   ]
  },
  {
   "cell_type": "code",
   "execution_count": 2,
   "metadata": {
    "executionInfo": {
     "elapsed": 201,
     "status": "ok",
     "timestamp": 1625722168187,
     "user": {
      "displayName": "Yuting Zhao",
      "photoUrl": "https://lh3.googleusercontent.com/a-/AOh14GgTx8nXEgksfFAELok_uktVap8BK_FeqQbCMfOqOQ=s64",
      "userId": "08092881124962313525"
     },
     "user_tz": 420
    },
    "id": "yEyA8GAWkAyC"
   },
   "outputs": [],
   "source": [
    "# Initial investment cost of the equipment and production estimates\n",
    "costEquipment = 750000\n",
    "\n",
    "# Number of years to generate revenue\n",
    "numberOfYears = 5 \n",
    "\n",
    "# Total number of years in the model\n",
    "totalYear = numberOfYears+1\n",
    "\n",
    "# Business assumptions\n",
    "COGSpercent = 0.375\n",
    "salariesBenefits = 160427\n",
    "salariesBenefits0 = 82750\n",
    "otherCost = 10963\n",
    "workingCapital = 9003 \n",
    "tax = 0.25\n",
    "\n",
    "# Production assumptions\n",
    "price_mean = 25\n",
    "price_std = 0.5\n",
    "\n",
    "units_mean = 35000\n",
    "units_std = 2000\n",
    "\n",
    "# Discount rate \n",
    "discRate_mean = 0.15\n",
    "discRate_std = 0.02"
   ]
  },
  {
   "cell_type": "markdown",
   "metadata": {
    "id": "pV2xF0XvkAyC"
   },
   "source": [
    "### Simulate Variables "
   ]
  },
  {
   "cell_type": "code",
   "execution_count": 3,
   "metadata": {
    "colab": {
     "base_uri": "https://localhost:8080/",
     "height": 352
    },
    "executionInfo": {
     "elapsed": 421,
     "status": "ok",
     "timestamp": 1625722178462,
     "user": {
      "displayName": "Yuting Zhao",
      "photoUrl": "https://lh3.googleusercontent.com/a-/AOh14GgTx8nXEgksfFAELok_uktVap8BK_FeqQbCMfOqOQ=s64",
      "userId": "08092881124962313525"
     },
     "user_tz": 420
    },
    "id": "sWbnnMAukAyD",
    "outputId": "fda075ee-f254-4601-f9d3-55ca8067990b"
   },
   "outputs": [
    {
     "name": "stdout",
     "output_type": "stream",
     "text": [
      "[24.4571847  25.49867272 25.14148925 ... 24.76386679 25.29098218\n",
      " 25.48530643]\n",
      "[32518.06065558 34374.10642993 33302.1064165  ... 32194.32036611\n",
      " 37089.08172498 35738.56223552]\n",
      "[0.17063187 0.1766389  0.15191688 ... 0.12710549 0.14052637 0.18319834]\n"
     ]
    },
    {
     "data": {
      "image/png": "[encoded data removed]",
      "text/plain": [
       "<Figure size 640x480 with 1 Axes>"
      ]
     },
     "metadata": {},
     "output_type": "display_data"
    }
   ],
   "source": [
    "# Set up random seed for reproducibility\n",
    "np.random.seed(123) \n",
    "\n",
    "# Number of simulations\n",
    "simulations = 10000\n",
    "\n",
    "# Simulate the price, units, and discount rate\n",
    "price_sim = np.random.normal(price_mean, price_std, simulations)\n",
    "units_sim = np.random.normal(units_mean, units_std, simulations)\n",
    "discRate_sim = np.random.normal(discRate_mean, discRate_std, simulations)\n",
    "\n",
    "# Examine the simulations\n",
    "print(price_sim)\n",
    "print(units_sim)\n",
    "print(discRate_sim)\n",
    "\n",
    "plt.hist(price_sim, 50)\n",
    "plt.show()"
   ]
  },
  {
   "cell_type": "markdown",
   "metadata": {
    "id": "zi40HTSgkAyF"
   },
   "source": [
    "### Simulate the Free Cash Flow (FCF) and Net Present Value (NPV)"
   ]
  },
  {
   "cell_type": "code",
   "execution_count": 4,
   "metadata": {
    "colab": {
     "base_uri": "https://localhost:8080/"
    },
    "executionInfo": {
     "elapsed": 200,
     "status": "ok",
     "timestamp": 1625722183107,
     "user": {
      "displayName": "Yuting Zhao",
      "photoUrl": "https://lh3.googleusercontent.com/a-/AOh14GgTx8nXEgksfFAELok_uktVap8BK_FeqQbCMfOqOQ=s64",
      "userId": "08092881124962313525"
     },
     "user_tz": 420
    },
    "id": "S1dqEpAukAyF",
    "outputId": "db62f349-4a38-4e4c-9f73-d51b04cfa34b"
   },
   "outputs": [
    {
     "data": {
      "text/plain": [
       "array([1., 1., 1., 1., 1., 1.])"
      ]
     },
     "execution_count": 4,
     "metadata": {},
     "output_type": "execute_result"
    }
   ],
   "source": [
    "# Create a list of ones\n",
    "all_years_constant = np.ones(totalYear)\n",
    "all_years_constant"
   ]
  },
  {
   "cell_type": "code",
   "execution_count": 5,
   "metadata": {
    "executionInfo": {
     "elapsed": 446,
     "status": "ok",
     "timestamp": 1625722197098,
     "user": {
      "displayName": "Yuting Zhao",
      "photoUrl": "https://lh3.googleusercontent.com/a-/AOh14GgTx8nXEgksfFAELok_uktVap8BK_FeqQbCMfOqOQ=s64",
      "userId": "08092881124962313525"
     },
     "user_tz": 420
    },
    "id": "CTCMxsj3kAyO"
   },
   "outputs": [],
   "source": [
    "# Create a list to contain all NPV simulations\n",
    "npv=[]\n",
    "\n",
    "# Create a for loop to go through 10,000 simulations\n",
    "for i in np.arange(simulations):\n",
    "        \n",
    "    # Sales from year 0 to year 5 \n",
    "    units=all_years_constant*units_sim[i]\n",
    "    sales=units*price_sim[i]\n",
    "    sales[0]=0  \n",
    "    \n",
    "    # COGS from year 0 to year 5\n",
    "    COGS=sales*COGSpercent\n",
    "    \n",
    "    # Salaries from year 0 to year 5\n",
    "    salaries=all_years_constant*salariesBenefits\n",
    "    salaries[0]=salariesBenefits0\n",
    "    \n",
    "    # Other expenses from year 0 to year 5\n",
    "    other=all_years_constant*otherCost\n",
    "    other[0]=0\n",
    "    \n",
    "    # Depreciation from year 0 to year 5\n",
    "    depreciation=all_years_constant*costEquipment/numberOfYears   \n",
    "    depreciation[0]=0                            \n",
    "    \n",
    "    # Net increase in working capital from year 0 to year 5\n",
    "    WC=all_years_constant*workingCapital\n",
    "    WC[0]=0\n",
    "    \n",
    "    # Equipment cost from year 0 to year 5\n",
    "    equipment=np.zeros(totalYear) \n",
    "    equipment[0]=costEquipment \n",
    "    \n",
    "    # Calculate EBIT\n",
    "    EBIT=sales-COGS-salaries-other-depreciation \n",
    "    \n",
    "    # Calculate NOPAT(net operating profit after taxes)\n",
    "    NOPAT=EBIT*(1-tax)                   \n",
    "    \n",
    "    # Calculate FCF (free cash flow)\n",
    "    FCF=NOPAT+depreciation-WC-equipment\n",
    "    \n",
    "    # Calculate NPV\n",
    "    R=discRate_sim[i]\n",
    "    npvProject=npf.npv(R,FCF)/1000\n",
    "    \n",
    "    # Add npvProject to the list of all NPV simulations\n",
    "    npv.append(npvProject)"
   ]
  },
  {
   "cell_type": "markdown",
   "metadata": {
    "id": "5tBpQz4EkAyO"
   },
   "source": [
    "### Analyze the Profitability of the Investment"
   ]
  },
  {
   "cell_type": "code",
   "execution_count": 6,
   "metadata": {
    "colab": {
     "base_uri": "https://localhost:8080/",
     "height": 347
    },
    "executionInfo": {
     "elapsed": 459,
     "status": "ok",
     "timestamp": 1625722200831,
     "user": {
      "displayName": "Yuting Zhao",
      "photoUrl": "https://lh3.googleusercontent.com/a-/AOh14GgTx8nXEgksfFAELok_uktVap8BK_FeqQbCMfOqOQ=s64",
      "userId": "08092881124962313525"
     },
     "user_tz": 420
    },
    "id": "5AKkt-K5kAyO",
    "outputId": "82a60de4-04aa-4950-c3d8-aa10f32cf9d8"
   },
   "outputs": [
    {
     "name": "stdout",
     "output_type": "stream",
     "text": [
      "min  NPV = -90\n",
      "mean NPV = 231\n",
      "max  NPV = 654\n"
     ]
    },
    {
     "data": {
      "image/png": "[encoded data removed]",
      "text/plain": [
       "<Figure size 640x480 with 1 Axes>"
      ]
     },
     "metadata": {},
     "output_type": "display_data"
    }
   ],
   "source": [
    "# pint the minimum, average and maximum NPV\n",
    "print(\"min  NPV =\",round(min(npv)))\n",
    "print(\"mean NPV =\",round(np.mean(npv)))\n",
    "print(\"max  NPV =\",round(max(npv)))\n",
    "\n",
    "# Plot the data distribution\n",
    "plt.hist(npv, 50, color='orange')\n",
    "plt.title(\"NPV of the Project: 3 Uncertainties\")\n",
    "plt.xlabel(\"NPV (in thousands)\")\n",
    "plt.axvline(0, color = 'k', linestyle='dashed')\n",
    "plt.show()"
   ]
  }
 ],
 "metadata": {
  "colab": {
   "name": "05-Capital Investment NPV Forecast V5.ipynb",
   "provenance": []
  },
  "kernelspec": {
   "display_name": "Python 3 (ipykernel)",
   "language": "python",
   "name": "python3"
  },
  "language_info": {
   "codemirror_mode": {
    "name": "ipython",
    "version": 3
   },
   "file_extension": ".py",
   "mimetype": "text/x-python",
   "name": "python",
   "nbconvert_exporter": "python",
   "pygments_lexer": "ipython3",
   "version": "3.11.5"
  }
 },
 "nbformat": 4,
 "nbformat_minor": 1
}
